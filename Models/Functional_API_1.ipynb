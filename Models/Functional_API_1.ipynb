{
  "nbformat": 4,
  "nbformat_minor": 0,
  "metadata": {
    "colab": {
      "name": "Functional_API_1.ipynb",
      "provenance": [],
      "authorship_tag": "ABX9TyO+Y8zLGphwhs2WQon1PrMS",
      "include_colab_link": true
    },
    "kernelspec": {
      "name": "python3",
      "display_name": "Python 3"
    },
    "language_info": {
      "name": "python"
    },
    "accelerator": "GPU",
    "gpuClass": "standard"
  },
  "cells": [
    {
      "cell_type": "markdown",
      "metadata": {
        "id": "view-in-github",
        "colab_type": "text"
      },
      "source": [
        "<a href=\"https://colab.research.google.com/github/nivedanyakolli361/CNN1/blob/main/Models/Functional_API_1.ipynb\" target=\"_parent\"><img src=\"https://colab.research.google.com/assets/colab-badge.svg\" alt=\"Open In Colab\"/></a>"
      ]
    },
    {
      "cell_type": "code",
      "execution_count": 1,
      "metadata": {
        "colab": {
          "base_uri": "https://localhost:8080/"
        },
        "id": "PX3S1tPClN9E",
        "outputId": "c5453b68-bb63-4a93-841d-d4c3a2d44b76"
      },
      "outputs": [
        {
          "output_type": "stream",
          "name": "stdout",
          "text": [
            "Drive already mounted at /content/drive; to attempt to forcibly remount, call drive.mount(\"/content/drive\", force_remount=True).\n"
          ]
        }
      ],
      "source": [
        "from google.colab import drive\n",
        "drive.mount('/content/drive')"
      ]
    },
    {
      "cell_type": "code",
      "source": [
        "# Part 1 - Building the CNN\n",
        "# Multiple Inputs\n",
        "\n",
        "from keras.utils.vis_utils import plot_model\n",
        "from keras.models import Model\n",
        "from keras.layers import Input\n",
        "from keras.layers import Dense\n",
        "from keras.layers import Flatten\n",
        "from keras.layers.convolutional import Conv2D\n",
        "from keras.layers.pooling import MaxPooling2D\n",
        "from keras.layers.merge import concatenate"
      ],
      "metadata": {
        "id": "Nn8y-irplZoY"
      },
      "execution_count": 2,
      "outputs": []
    },
    {
      "cell_type": "code",
      "source": [
        "from tensorflow.keras.preprocessing.image import ImageDataGenerator\n",
        "from tensorflow.keras.preprocessing import image"
      ],
      "metadata": {
        "id": "mjQwfOh6lZtt"
      },
      "execution_count": 3,
      "outputs": []
    },
    {
      "cell_type": "code",
      "source": [
        "Train = ImageDataGenerator(rescale = 1./255,\n",
        "                           rotation_range = 20,\n",
        "                           shear_range = 0.2,\n",
        "                           zoom_range = 0.5,\n",
        "                           horizontal_flip = True,\n",
        "                           vertical_flip= True)\n",
        "\n",
        "Test = ImageDataGenerator(rescale = 1./255)"
      ],
      "metadata": {
        "id": "l0nI1SPblZw_"
      },
      "execution_count": 4,
      "outputs": []
    },
    {
      "cell_type": "code",
      "source": [
        "import cv2\n",
        "import numpy as np\n",
        "from matplotlib import pyplot as plt\n",
        "import PIL \n",
        "\n",
        "# import required module\n",
        "import glob\n",
        "\n",
        "# get the path/directory\n",
        "folder_dir = '/content/drive/MyDrive/OKC_and_NonOKC_Dataset/Test/OKC'\n",
        "\n",
        "# iterate over files in that directory\n",
        "num = 0\n",
        "for images in glob.iglob(f'{folder_dir}/*.jpg'):\n",
        "  img = cv2.imread(images)\n",
        "  img = cv2.cvtColor(img, cv2.COLOR_BGR2RGB)\n",
        "  canny = cv2.Canny(img, 100, 200)\n",
        "  canny = PIL.Image.fromarray(canny)\n",
        "  name = '/content/drive/MyDrive/Canny/Test/OKC/OKC_'+str(num)+'.jpg'\n",
        "  canny.save(name,'JPEG')\n",
        "  num+=1"
      ],
      "metadata": {
        "id": "ITuH54sglZ0G"
      },
      "execution_count": 11,
      "outputs": []
    },
    {
      "cell_type": "code",
      "source": [
        "# Pythono3 code to rename multiple files in a directory or folder\n",
        "\n",
        "# importing os module\n",
        "import os\n",
        "\n",
        "# Function to rename multiple files\n",
        "def main():\n",
        "    folder = \"/content/drive/MyDrive/Canny/Training/OKC\"\n",
        "    for count, filename in enumerate(os.listdir(folder)):\n",
        "        dst = f\"OKC_{str(count)}.jpg\"\n",
        "        src =f\"{folder}/{filename}\" # foldername/filename, if .py file is outside folder\n",
        "        dst =f\"{folder}/{dst}\"\n",
        "\n",
        "        # rename() function will\n",
        "        # rename all the files\n",
        "        os.rename(src, dst)\n",
        "\n",
        "# Driver Code\n",
        "if __name__ == '__main__':\n",
        "\n",
        "    # Calling main() function\n",
        "    main()"
      ],
      "metadata": {
        "id": "ITk_YvbKlZ23"
      },
      "execution_count": 13,
      "outputs": []
    },
    {
      "cell_type": "code",
      "source": [
        "t1 = Train.flow_from_directory('/content/drive/MyDrive/OKC_and_NonOKC_Dataset/Training',\n",
        "                               target_size = (512, 512),\n",
        "                               batch_size=2,\n",
        "                               class_mode='binary',\n",
        "                               shuffle = True, \n",
        "                               seed = 13, \n",
        "                               color_mode = 'rgb')\n",
        "t2 = Train.flow_from_directory('/content/drive/MyDrive/Canny/Training',\n",
        "                               target_size = (512, 512),\n",
        "                               batch_size=2,\n",
        "                               class_mode='binary',\n",
        "                               shuffle = True, \n",
        "                               seed= 13, \n",
        "                               color_mode = 'grayscale')"
      ],
      "metadata": {
        "colab": {
          "base_uri": "https://localhost:8080/"
        },
        "id": "ROz1lGEIlZ5P",
        "outputId": "ae264f30-b876-4043-8c9b-81f3198d1d16"
      },
      "execution_count": 15,
      "outputs": [
        {
          "output_type": "stream",
          "name": "stdout",
          "text": [
            "Found 2003 images belonging to 2 classes.\n",
            "Found 2003 images belonging to 2 classes.\n"
          ]
        }
      ]
    },
    {
      "cell_type": "code",
      "source": [
        "import tensorflow as tf \n",
        "device__list = tf.test.gpu_device_name()\n",
        "device__list"
      ],
      "metadata": {
        "colab": {
          "base_uri": "https://localhost:8080/",
          "height": 36
        },
        "id": "hn_-yZ48lZ76",
        "outputId": "75d1ead9-f0e0-4f1d-ace9-a19deb25d100"
      },
      "execution_count": 16,
      "outputs": [
        {
          "output_type": "execute_result",
          "data": {
            "text/plain": [
              "'/device:GPU:0'"
            ],
            "application/vnd.google.colaboratory.intrinsic+json": {
              "type": "string"
            }
          },
          "metadata": {},
          "execution_count": 16
        }
      ]
    },
    {
      "cell_type": "code",
      "source": [
        "Validation = ImageDataGenerator(rescale = 1./255)"
      ],
      "metadata": {
        "id": "r_UjfCCGlZ-q"
      },
      "execution_count": 17,
      "outputs": []
    },
    {
      "cell_type": "code",
      "source": [
        "validation_dataset1 = Validation.flow_from_directory('/content/drive/MyDrive/OKC_and_NonOKC_Dataset/Validation',\n",
        "                                                     target_size = (512, 512),\n",
        "                                                     batch_size=1,\n",
        "                                                     class_mode='binary',\n",
        "                                                     shuffle = False, \n",
        "                                                     seed = 13)\n",
        "\n",
        "validation_dataset2 = Validation.flow_from_directory('/content/drive/MyDrive/Canny/Validation',\n",
        "                                                     target_size = (512, 512),\n",
        "                                                     batch_size=1,\n",
        "                                                     class_mode='binary',\n",
        "                                                     shuffle = False, \n",
        "                                                     seed = 13)\n",
        "\n",
        "\n",
        "test_dataset1 = Test.flow_from_directory('/content/drive/MyDrive/OKC_and_NonOKC_Dataset/Test',\n",
        "                                         target_size = (512, 512),\n",
        "                                         batch_size = 1,\n",
        "                                         class_mode = 'binary',\n",
        "                                         shuffle = False, \n",
        "                                         seed = 13)\n",
        "\n",
        "test_dataset2 = Test.flow_from_directory('/content/drive/MyDrive/Canny/Test',\n",
        "                                         target_size = (512, 512),\n",
        "                                         batch_size = 1,\n",
        "                                         class_mode = 'binary',\n",
        "                                         shuffle = False, \n",
        "                                         seed = 13)"
      ],
      "metadata": {
        "colab": {
          "base_uri": "https://localhost:8080/"
        },
        "id": "In5t0MPilaBT",
        "outputId": "3fed263d-006e-43e7-ec47-db9814eb457b"
      },
      "execution_count": 18,
      "outputs": [
        {
          "output_type": "stream",
          "name": "stdout",
          "text": [
            "Found 430 images belonging to 2 classes.\n",
            "Found 430 images belonging to 2 classes.\n",
            "Found 428 images belonging to 2 classes.\n",
            "Found 428 images belonging to 2 classes.\n"
          ]
        }
      ]
    },
    {
      "cell_type": "code",
      "source": [
        "# first input model\n",
        "visible1 = Input(shape=(512,512,1))\n",
        "conv11 = Conv2D(32, kernel_size=4, activation='relu')(visible1)\n",
        "pool11 = MaxPooling2D(pool_size=(2, 2))(conv11)\n",
        "\n",
        "conv12 = Conv2D(16, kernel_size=4, activation='relu')(pool11)\n",
        "pool12 = MaxPooling2D(pool_size=(2, 2))(conv12)\n",
        "flat1 = Flatten()(pool12)\n",
        "\n",
        "\n",
        "# second input model\n",
        "visible2 = Input(shape=(512,512,3))\n",
        "conv21 = Conv2D(32, kernel_size=4, activation='relu')(visible2)\n",
        "pool21 = MaxPooling2D(pool_size=(2, 2))(conv21)\n",
        "\n",
        "conv22 = Conv2D(16, kernel_size=4, activation='relu')(pool21)\n",
        "pool22 = MaxPooling2D(pool_size=(2, 2))(conv22)\n",
        "flat2 = Flatten()(pool22)\n",
        "\n",
        "\n",
        "# merge input models\n",
        "merge = concatenate([flat1, flat2])\n",
        "\n",
        "\n",
        "# interpretation model\n",
        "hidden1 = Dense(512, activation='relu')(merge)\n",
        "hidden2 = Dense(128, activation='relu')(hidden1)\n",
        "\n",
        "output = Dense(1, activation='sigmoid')(hidden2)\n",
        "\n",
        "model = Model(inputs=[visible1, visible2], outputs=output)"
      ],
      "metadata": {
        "id": "EF1tbm2Yt7Ub"
      },
      "execution_count": 19,
      "outputs": []
    },
    {
      "cell_type": "code",
      "source": [
        "# summarize layers\n",
        "print(model.summary())"
      ],
      "metadata": {
        "colab": {
          "base_uri": "https://localhost:8080/"
        },
        "id": "zPny39Vst7YD",
        "outputId": "27abaa2c-f13d-49b7-cded-d04f9edd460e"
      },
      "execution_count": 20,
      "outputs": [
        {
          "output_type": "stream",
          "name": "stdout",
          "text": [
            "Model: \"model_1\"\n",
            "__________________________________________________________________________________________________\n",
            " Layer (type)                   Output Shape         Param #     Connected to                     \n",
            "==================================================================================================\n",
            " input_3 (InputLayer)           [(None, 512, 512, 1  0           []                               \n",
            "                                )]                                                                \n",
            "                                                                                                  \n",
            " input_4 (InputLayer)           [(None, 512, 512, 3  0           []                               \n",
            "                                )]                                                                \n",
            "                                                                                                  \n",
            " conv2d_4 (Conv2D)              (None, 509, 509, 32  544         ['input_3[0][0]']                \n",
            "                                )                                                                 \n",
            "                                                                                                  \n",
            " conv2d_6 (Conv2D)              (None, 509, 509, 32  1568        ['input_4[0][0]']                \n",
            "                                )                                                                 \n",
            "                                                                                                  \n",
            " max_pooling2d_4 (MaxPooling2D)  (None, 254, 254, 32  0          ['conv2d_4[0][0]']               \n",
            "                                )                                                                 \n",
            "                                                                                                  \n",
            " max_pooling2d_6 (MaxPooling2D)  (None, 254, 254, 32  0          ['conv2d_6[0][0]']               \n",
            "                                )                                                                 \n",
            "                                                                                                  \n",
            " conv2d_5 (Conv2D)              (None, 251, 251, 16  8208        ['max_pooling2d_4[0][0]']        \n",
            "                                )                                                                 \n",
            "                                                                                                  \n",
            " conv2d_7 (Conv2D)              (None, 251, 251, 16  8208        ['max_pooling2d_6[0][0]']        \n",
            "                                )                                                                 \n",
            "                                                                                                  \n",
            " max_pooling2d_5 (MaxPooling2D)  (None, 125, 125, 16  0          ['conv2d_5[0][0]']               \n",
            "                                )                                                                 \n",
            "                                                                                                  \n",
            " max_pooling2d_7 (MaxPooling2D)  (None, 125, 125, 16  0          ['conv2d_7[0][0]']               \n",
            "                                )                                                                 \n",
            "                                                                                                  \n",
            " flatten_2 (Flatten)            (None, 250000)       0           ['max_pooling2d_5[0][0]']        \n",
            "                                                                                                  \n",
            " flatten_3 (Flatten)            (None, 250000)       0           ['max_pooling2d_7[0][0]']        \n",
            "                                                                                                  \n",
            " concatenate_1 (Concatenate)    (None, 500000)       0           ['flatten_2[0][0]',              \n",
            "                                                                  'flatten_3[0][0]']              \n",
            "                                                                                                  \n",
            " dense_3 (Dense)                (None, 512)          256000512   ['concatenate_1[0][0]']          \n",
            "                                                                                                  \n",
            " dense_4 (Dense)                (None, 128)          65664       ['dense_3[0][0]']                \n",
            "                                                                                                  \n",
            " dense_5 (Dense)                (None, 1)            129         ['dense_4[0][0]']                \n",
            "                                                                                                  \n",
            "==================================================================================================\n",
            "Total params: 256,084,833\n",
            "Trainable params: 256,084,833\n",
            "Non-trainable params: 0\n",
            "__________________________________________________________________________________________________\n",
            "None\n"
          ]
        }
      ]
    },
    {
      "cell_type": "code",
      "source": [
        "def generator_traing():\n",
        "  while True:\n",
        "    train1 = t1.next()\n",
        "    train2 = t2.next()\n",
        "    yield ([train1[0], train2[0]], train1[1])\n",
        "\n",
        "genator_1 = generator_traing()   #for training   "
      ],
      "metadata": {
        "id": "PcNQtQKCt7bf"
      },
      "execution_count": 21,
      "outputs": []
    },
    {
      "cell_type": "code",
      "source": [
        "def generator_validation():\n",
        "  while True:\n",
        "    train_val1 = validation_dataset1.next()\n",
        "    train_val2 = validation_dataset2.next()\n",
        "    yield ([train_val1[0], train_val2[0]], train_val1[1])\n",
        "\n",
        "genator_2 = generator_validation()"
      ],
      "metadata": {
        "id": "Zx-ooIHnt7e4"
      },
      "execution_count": 22,
      "outputs": []
    },
    {
      "cell_type": "code",
      "source": [
        "def generator_test():\n",
        "  while True:\n",
        "    train_test1 = test_dataset1.next()\n",
        "    train_test2 = test_dataset2.next()\n",
        "    yield ([train_test1[0], train_test2[0]], train_test1[1])\n",
        "\n",
        "genator_3 = generator_validation()"
      ],
      "metadata": {
        "id": "D925UpFRt7hw"
      },
      "execution_count": 23,
      "outputs": []
    },
    {
      "cell_type": "code",
      "source": [
        "model.compile(optimizer = 'adam', loss = 'binary_crossentropy', metrics=['accuracy'])"
      ],
      "metadata": {
        "id": "5J0wILdjt7kx"
      },
      "execution_count": 24,
      "outputs": []
    },
    {
      "cell_type": "code",
      "source": [
        "history = model.fit(genator_1,\n",
        "                    validation_data = genator_3, \n",
        "                    epochs = 10,\n",
        "                    steps_per_epoch=1002,\n",
        "                    validation_steps=230)"
      ],
      "metadata": {
        "colab": {
          "base_uri": "https://localhost:8080/",
          "height": 1000
        },
        "id": "oYxGJsJzt7ok",
        "outputId": "a2012963-f177-479a-8d4e-1916167afd78"
      },
      "execution_count": 28,
      "outputs": [
        {
          "output_type": "stream",
          "name": "stdout",
          "text": [
            "Epoch 1/10\n"
          ]
        },
        {
          "output_type": "error",
          "ename": "InvalidArgumentError",
          "evalue": "ignored",
          "traceback": [
            "\u001b[0;31m---------------------------------------------------------------------------\u001b[0m",
            "\u001b[0;31mInvalidArgumentError\u001b[0m                      Traceback (most recent call last)",
            "\u001b[0;32m<ipython-input-28-e796c5be9db8>\u001b[0m in \u001b[0;36m<module>\u001b[0;34m()\u001b[0m\n\u001b[1;32m      3\u001b[0m                     \u001b[0mepochs\u001b[0m \u001b[0;34m=\u001b[0m \u001b[0;36m10\u001b[0m\u001b[0;34m,\u001b[0m\u001b[0;34m\u001b[0m\u001b[0;34m\u001b[0m\u001b[0m\n\u001b[1;32m      4\u001b[0m                     \u001b[0msteps_per_epoch\u001b[0m\u001b[0;34m=\u001b[0m\u001b[0;36m1002\u001b[0m\u001b[0;34m,\u001b[0m\u001b[0;34m\u001b[0m\u001b[0;34m\u001b[0m\u001b[0m\n\u001b[0;32m----> 5\u001b[0;31m                     validation_steps=230)\n\u001b[0m",
            "\u001b[0;32m/usr/local/lib/python3.7/dist-packages/keras/utils/traceback_utils.py\u001b[0m in \u001b[0;36merror_handler\u001b[0;34m(*args, **kwargs)\u001b[0m\n\u001b[1;32m     65\u001b[0m     \u001b[0;32mexcept\u001b[0m \u001b[0mException\u001b[0m \u001b[0;32mas\u001b[0m \u001b[0me\u001b[0m\u001b[0;34m:\u001b[0m  \u001b[0;31m# pylint: disable=broad-except\u001b[0m\u001b[0;34m\u001b[0m\u001b[0;34m\u001b[0m\u001b[0m\n\u001b[1;32m     66\u001b[0m       \u001b[0mfiltered_tb\u001b[0m \u001b[0;34m=\u001b[0m \u001b[0m_process_traceback_frames\u001b[0m\u001b[0;34m(\u001b[0m\u001b[0me\u001b[0m\u001b[0;34m.\u001b[0m\u001b[0m__traceback__\u001b[0m\u001b[0;34m)\u001b[0m\u001b[0;34m\u001b[0m\u001b[0;34m\u001b[0m\u001b[0m\n\u001b[0;32m---> 67\u001b[0;31m       \u001b[0;32mraise\u001b[0m \u001b[0me\u001b[0m\u001b[0;34m.\u001b[0m\u001b[0mwith_traceback\u001b[0m\u001b[0;34m(\u001b[0m\u001b[0mfiltered_tb\u001b[0m\u001b[0;34m)\u001b[0m \u001b[0;32mfrom\u001b[0m \u001b[0;32mNone\u001b[0m\u001b[0;34m\u001b[0m\u001b[0;34m\u001b[0m\u001b[0m\n\u001b[0m\u001b[1;32m     68\u001b[0m     \u001b[0;32mfinally\u001b[0m\u001b[0;34m:\u001b[0m\u001b[0;34m\u001b[0m\u001b[0;34m\u001b[0m\u001b[0m\n\u001b[1;32m     69\u001b[0m       \u001b[0;32mdel\u001b[0m \u001b[0mfiltered_tb\u001b[0m\u001b[0;34m\u001b[0m\u001b[0;34m\u001b[0m\u001b[0m\n",
            "\u001b[0;32m/usr/local/lib/python3.7/dist-packages/tensorflow/python/eager/execute.py\u001b[0m in \u001b[0;36mquick_execute\u001b[0;34m(op_name, num_outputs, inputs, attrs, ctx, name)\u001b[0m\n\u001b[1;32m     53\u001b[0m     \u001b[0mctx\u001b[0m\u001b[0;34m.\u001b[0m\u001b[0mensure_initialized\u001b[0m\u001b[0;34m(\u001b[0m\u001b[0;34m)\u001b[0m\u001b[0;34m\u001b[0m\u001b[0;34m\u001b[0m\u001b[0m\n\u001b[1;32m     54\u001b[0m     tensors = pywrap_tfe.TFE_Py_Execute(ctx._handle, device_name, op_name,\n\u001b[0;32m---> 55\u001b[0;31m                                         inputs, attrs, num_outputs)\n\u001b[0m\u001b[1;32m     56\u001b[0m   \u001b[0;32mexcept\u001b[0m \u001b[0mcore\u001b[0m\u001b[0;34m.\u001b[0m\u001b[0m_NotOkStatusException\u001b[0m \u001b[0;32mas\u001b[0m \u001b[0me\u001b[0m\u001b[0;34m:\u001b[0m\u001b[0;34m\u001b[0m\u001b[0;34m\u001b[0m\u001b[0m\n\u001b[1;32m     57\u001b[0m     \u001b[0;32mif\u001b[0m \u001b[0mname\u001b[0m \u001b[0;32mis\u001b[0m \u001b[0;32mnot\u001b[0m \u001b[0;32mNone\u001b[0m\u001b[0;34m:\u001b[0m\u001b[0;34m\u001b[0m\u001b[0;34m\u001b[0m\u001b[0m\n",
            "\u001b[0;31mInvalidArgumentError\u001b[0m: Graph execution error:\n\nDetected at node 'model_1/conv2d_6/Conv2D' defined at (most recent call last):\n    File \"/usr/lib/python3.7/runpy.py\", line 193, in _run_module_as_main\n      \"__main__\", mod_spec)\n    File \"/usr/lib/python3.7/runpy.py\", line 85, in _run_code\n      exec(code, run_globals)\n    File \"/usr/local/lib/python3.7/dist-packages/ipykernel_launcher.py\", line 16, in <module>\n      app.launch_new_instance()\n    File \"/usr/local/lib/python3.7/dist-packages/traitlets/config/application.py\", line 846, in launch_instance\n      app.start()\n    File \"/usr/local/lib/python3.7/dist-packages/ipykernel/kernelapp.py\", line 499, in start\n      self.io_loop.start()\n    File \"/usr/local/lib/python3.7/dist-packages/tornado/platform/asyncio.py\", line 132, in start\n      self.asyncio_loop.run_forever()\n    File \"/usr/lib/python3.7/asyncio/base_events.py\", line 541, in run_forever\n      self._run_once()\n    File \"/usr/lib/python3.7/asyncio/base_events.py\", line 1786, in _run_once\n      handle._run()\n    File \"/usr/lib/python3.7/asyncio/events.py\", line 88, in _run\n      self._context.run(self._callback, *self._args)\n    File \"/usr/local/lib/python3.7/dist-packages/tornado/platform/asyncio.py\", line 122, in _handle_events\n      handler_func(fileobj, events)\n    File \"/usr/local/lib/python3.7/dist-packages/tornado/stack_context.py\", line 300, in null_wrapper\n      return fn(*args, **kwargs)\n    File \"/usr/local/lib/python3.7/dist-packages/zmq/eventloop/zmqstream.py\", line 577, in _handle_events\n      self._handle_recv()\n    File \"/usr/local/lib/python3.7/dist-packages/zmq/eventloop/zmqstream.py\", line 606, in _handle_recv\n      self._run_callback(callback, msg)\n    File \"/usr/local/lib/python3.7/dist-packages/zmq/eventloop/zmqstream.py\", line 556, in _run_callback\n      callback(*args, **kwargs)\n    File \"/usr/local/lib/python3.7/dist-packages/tornado/stack_context.py\", line 300, in null_wrapper\n      return fn(*args, **kwargs)\n    File \"/usr/local/lib/python3.7/dist-packages/ipykernel/kernelbase.py\", line 283, in dispatcher\n      return self.dispatch_shell(stream, msg)\n    File \"/usr/local/lib/python3.7/dist-packages/ipykernel/kernelbase.py\", line 233, in dispatch_shell\n      handler(stream, idents, msg)\n    File \"/usr/local/lib/python3.7/dist-packages/ipykernel/kernelbase.py\", line 399, in execute_request\n      user_expressions, allow_stdin)\n    File \"/usr/local/lib/python3.7/dist-packages/ipykernel/ipkernel.py\", line 208, in do_execute\n      res = shell.run_cell(code, store_history=store_history, silent=silent)\n    File \"/usr/local/lib/python3.7/dist-packages/ipykernel/zmqshell.py\", line 537, in run_cell\n      return super(ZMQInteractiveShell, self).run_cell(*args, **kwargs)\n    File \"/usr/local/lib/python3.7/dist-packages/IPython/core/interactiveshell.py\", line 2718, in run_cell\n      interactivity=interactivity, compiler=compiler, result=result)\n    File \"/usr/local/lib/python3.7/dist-packages/IPython/core/interactiveshell.py\", line 2822, in run_ast_nodes\n      if self.run_code(code, result):\n    File \"/usr/local/lib/python3.7/dist-packages/IPython/core/interactiveshell.py\", line 2882, in run_code\n      exec(code_obj, self.user_global_ns, self.user_ns)\n    File \"<ipython-input-25-ed171b37bbad>\", line 5, in <module>\n      validation_steps=230)\n    File \"/usr/local/lib/python3.7/dist-packages/keras/utils/traceback_utils.py\", line 64, in error_handler\n      return fn(*args, **kwargs)\n    File \"/usr/local/lib/python3.7/dist-packages/keras/engine/training.py\", line 1384, in fit\n      tmp_logs = self.train_function(iterator)\n    File \"/usr/local/lib/python3.7/dist-packages/keras/engine/training.py\", line 1021, in train_function\n      return step_function(self, iterator)\n    File \"/usr/local/lib/python3.7/dist-packages/keras/engine/training.py\", line 1010, in step_function\n      outputs = model.distribute_strategy.run(run_step, args=(data,))\n    File \"/usr/local/lib/python3.7/dist-packages/keras/engine/training.py\", line 1000, in run_step\n      outputs = model.train_step(data)\n    File \"/usr/local/lib/python3.7/dist-packages/keras/engine/training.py\", line 859, in train_step\n      y_pred = self(x, training=True)\n    File \"/usr/local/lib/python3.7/dist-packages/keras/utils/traceback_utils.py\", line 64, in error_handler\n      return fn(*args, **kwargs)\n    File \"/usr/local/lib/python3.7/dist-packages/keras/engine/base_layer.py\", line 1096, in __call__\n      outputs = call_fn(inputs, *args, **kwargs)\n    File \"/usr/local/lib/python3.7/dist-packages/keras/utils/traceback_utils.py\", line 92, in error_handler\n      return fn(*args, **kwargs)\n    File \"/usr/local/lib/python3.7/dist-packages/keras/engine/functional.py\", line 452, in call\n      inputs, training=training, mask=mask)\n    File \"/usr/local/lib/python3.7/dist-packages/keras/engine/functional.py\", line 589, in _run_internal_graph\n      outputs = node.layer(*args, **kwargs)\n    File \"/usr/local/lib/python3.7/dist-packages/keras/utils/traceback_utils.py\", line 64, in error_handler\n      return fn(*args, **kwargs)\n    File \"/usr/local/lib/python3.7/dist-packages/keras/engine/base_layer.py\", line 1096, in __call__\n      outputs = call_fn(inputs, *args, **kwargs)\n    File \"/usr/local/lib/python3.7/dist-packages/keras/utils/traceback_utils.py\", line 92, in error_handler\n      return fn(*args, **kwargs)\n    File \"/usr/local/lib/python3.7/dist-packages/keras/layers/convolutional.py\", line 248, in call\n      outputs = self.convolution_op(inputs, self.kernel)\n    File \"/usr/local/lib/python3.7/dist-packages/keras/layers/convolutional.py\", line 240, in convolution_op\n      name=self.__class__.__name__)\nNode: 'model_1/conv2d_6/Conv2D'\ninput depth must be evenly divisible by filter depth: 1 vs 3\n\t [[{{node model_1/conv2d_6/Conv2D}}]] [Op:__inference_train_function_1412]"
          ]
        }
      ]
    },
    {
      "cell_type": "code",
      "source": [
        ""
      ],
      "metadata": {
        "id": "ezJ1RffFt7sM"
      },
      "execution_count": null,
      "outputs": []
    },
    {
      "cell_type": "code",
      "source": [
        ""
      ],
      "metadata": {
        "id": "mgDkiZJKt7uy"
      },
      "execution_count": null,
      "outputs": []
    }
  ]
}